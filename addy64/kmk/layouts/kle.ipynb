{
 "cells": [
  {
   "cell_type": "code",
   "execution_count": 1,
   "metadata": {},
   "outputs": [],
   "source": [
    "import json\n",
    "import string\n",
    "\n",
    "pprint = lambda layout: print(json.dumps(layout, indent=2))\n",
    "x, y, r, a = \"xyra\"  # define these so we can load the javascript objects"
   ]
  },
  {
   "cell_type": "code",
   "execution_count": 62,
   "metadata": {},
   "outputs": [],
   "source": [
    "layout = [\n",
    "[{x:3,a:0},\"N3\\n\\n\\n\\n\\n3\",{x:7},\"N8\\n\\n\\n\\n\\n8\"],\n",
    "[{y:-0.8,x:2},\"N2\\n\\n\\n\\n\\n2\",{x:9},\"N9\\n\\n\\n\\n\\n9\"],\n",
    "[{y:-0.95,x:4},\"N4\\n\\n\\n\\n\\n4\",{x:5},\"N7\\n\\n\\n\\n\\n7\"],\n",
    "[{y:-0.85,x:5},\"N5\\n\\n\\n\\n\\n5\",{x:3},\"N6\\n\\n\\n\\n\\n6\"],\n",
    "[{y:-0.7},\"ESC\\n\\n\\n\\n\\n0\",\"N1\\n\\n\\n\\n\\n1\",{x:11},\"N0\\n\\n\\n\\n\\n10\",\"GRV\\n\\n\\n\\n\\n11\"],\n",
    "[{y:-0.7,x:3},\"E\\n\\n\\n\\n\\n15\",{x:7},\"I\\n\\n\\n\\n\\n20\"],\n",
    "[{y:-0.8,x:2},\"W\\n\\n\\n\\n\\n14\",{x:9},\"O\\n\\n\\n\\n\\n21\"],\n",
    "[{y:-0.95,x:4},\"R\\n\\n\\n\\n\\n16\",{x:5},\"U\\n\\n\\n\\n\\n19\"],\n",
    "[{y:-0.85,x:5},\"T\\n\\n\\n\\n\\n17\",{x:3},\"Y\\n\\n\\n\\n\\n18\"],\n",
    "[{y:-0.7},\"TAB\\n\\n\\n\\n\\n12\",\"Q\\n\\n\\n\\n\\n13\",{x:11},\"P\\n\\n\\n\\n\\n22\",{a:3},\"\\n\\n\\n\\n\\n23\"],\n",
    "[{y:-0.7,x:3,a:0},\"D\\n\\n\\n\\n\\n27\",{x:7},\"K\\n\\n\\n\\n\\n32\"],\n",
    "[{y:-0.8,x:2},\"S\\n\\n\\n\\n\\n26\",{x:9},\"L\\n\\n\\n\\n\\n33\"],\n",
    "[{y:-0.95,x:4},\"F\\n\\n\\n\\n\\n28\",{x:5},\"J\\n\\n\\n\\n\\n31\"],\n",
    "[{y:-0.85,x:5},\"G\\n\\n\\n\\n\\n29\",{x:3},\"H\\n\\n\\n\\n\\n30\"],\n",
    "[{y:-0.7},\"CTRL\\n\\n\\n\\n\\n24\",\"A\\n\\n\\n\\n\\n25\",{x:11},\"SCLN\\n\\n\\n\\n\\n34\",\"QUOT\\n\\n\\n\\n\\n35\"],\n",
    "[{y:-0.7,x:3},\"C\\n\\n\\n\\n\\n39\",{x:7},\"COMM\\n\\n\\n\\n\\n44\"],\n",
    "[{y:-0.8,x:2},\"X\\n\\n\\n\\n\\n38\",{x:9},\"DOT\\n\\n\\n\\n\\n45\"],\n",
    "[{y:-0.95,x:4},\"V\\n\\n\\n\\n\\n40\",{x:5},\"M\\n\\n\\n\\n\\n43\"],\n",
    "[{y:-0.85,x:5},\"B\\n\\n\\n\\n\\n41\",{x:3},\"N\\n\\n\\n\\n\\n42\"],\n",
    "[{y:-0.7},\"LSFT\\n\\n\\n\\n\\n36\",\"Z\\n\\n\\n\\n\\n37\",{x:11},\"SLSH\\n\\n\\n\\n\\n46\",\"RSFT\\n\\n\\n\\n\\n47\"],\n",
    "[{y:-0.7,x:3},\"LGUI\\n\\n\\n\\n\\n49\",{x:7},\"RGUI\\n\\n\\n\\n\\n56\"],\n",
    "[{y:-0.8,x:2},\"LT\\n\\n\\n\\n\\n48\",{x:9},\"LT\\n\\n\\n\\n\\n57\"],\n",
    "[{y:-0.95,x:4},\"LALT\\n\\n\\n\\n\\n50\",{x:5},\"BKDL\\n\\n\\n\\n\\n55\"],\n",
    "[{r:15,y:-2.75,x:7.3},\"LBRC\\n\\n\\n\\n\\n52\"],\n",
    "[{y:-0.6,x:6.24},\"SPC\\n\\n\\n\\n\\n51\"],\n",
    "[{r:-15,y:2.5,x:6.2},\"RBRC\\n\\n\\n\\n\\n53\"],\n",
    "[{y:-0.6,x:7.25},\"ENT\\n\\n\\n\\n\\n54\"]\n",
    "]"
   ]
  },
  {
   "cell_type": "code",
   "execution_count": 63,
   "metadata": {},
   "outputs": [],
   "source": [
    "# the indices to take a string from kle and order it visually rows then columns\n",
    "def get_labels(label_string):\n",
    "    key = [0, 8, 2, 6, 9, 7, 1, 10, 3, 4, 11, 5]\n",
    "    data = dict(enumerate(label_string.split(\"\\n\")))\n",
    "    out = {idx: data.get(lookup, \"\") for idx, lookup in enumerate(key)}\n",
    "    return list(out.values())\n",
    "\n",
    "key_order = []\n",
    "for row in  layout:\n",
    "    for key in row:\n",
    "        if isinstance(key, dict):\n",
    "            pass\n",
    "        else:\n",
    "            key_order.append(get_labels(key)[-1])"
   ]
  },
  {
   "cell_type": "code",
   "execution_count": 64,
   "metadata": {},
   "outputs": [
    {
     "data": {
      "text/plain": [
       "('{1:^9}', '{s:‒^7}')"
      ]
     },
     "execution_count": 64,
     "metadata": {},
     "output_type": "execute_result"
    }
   ],
   "source": [
    "f = \"-\"\n",
    "s = \"\"\n",
    "w = 8\n",
    "w2 = w * 4\n",
    "\n",
    "\n",
    "def _k(idx, width=w):\n",
    "    return f\"{{{idx}:^{width}}}\"\n",
    "\n",
    "\n",
    "def _e(fill=f, width=w):\n",
    "    return f\"{{s:{fill}^{width}}}\"\n",
    "\n",
    "\n",
    "_k(1, w + 1), _e(\"‒\", 6 + 1)"
   ]
  },
  {
   "cell_type": "code",
   "execution_count": 65,
   "metadata": {},
   "outputs": [
    {
     "name": "stdout",
     "output_type": "stream",
     "text": [
      "+‒‒‒‒‒‒‒‒+‒‒‒‒‒‒‒‒+‒‒‒‒‒‒‒‒+‒‒‒‒‒‒‒‒+‒‒‒‒‒‒‒‒+‒‒‒‒‒‒‒‒+                                    +‒‒‒‒‒‒‒‒+‒‒‒‒‒‒‒‒+‒‒‒‒‒‒‒‒+‒‒‒‒‒‒‒‒+‒‒‒‒‒‒‒‒+‒‒‒‒‒‒‒‒+\n",
      "|  ESC   |   1    |   2    |   3    |   4    |   5    |                                    |   6    |   7    |   8    |   9    |   0    |  GRV   |\n",
      "+‒‒‒‒‒‒‒‒+‒‒‒‒‒‒‒‒+‒‒‒‒‒‒‒‒+‒‒‒‒‒‒‒‒+‒‒‒‒‒‒‒‒+‒‒‒‒‒‒‒‒+                                    +‒‒‒‒‒‒‒‒+‒‒‒‒‒‒‒‒+‒‒‒‒‒‒‒‒+‒‒‒‒‒‒‒‒+‒‒‒‒‒‒‒‒+‒‒‒‒‒‒‒‒+\n",
      "|  TAB   |   Q    |   W    |   E    |   R    |   T    |                                    |   Y    |   U    |   I    |   O    |   P    |        |\n",
      "+‒‒‒‒‒‒‒‒+‒‒‒‒‒‒‒‒+‒‒‒‒‒‒‒‒+‒‒‒‒‒‒‒‒+‒‒‒‒‒‒‒‒+‒‒‒‒‒‒‒‒+                                    +‒‒‒‒‒‒‒‒+‒‒‒‒‒‒‒‒+‒‒‒‒‒‒‒‒+‒‒‒‒‒‒‒‒+‒‒‒‒‒‒‒‒+‒‒‒‒‒‒‒‒+\n",
      "|  CTRL  |   A    |   S    |   D    |   F    |   G    |                                    |   H    |   J    |   K    |   L    |  SCLN  |  QUOT  |\n",
      "+‒‒‒‒‒‒‒‒+‒‒‒‒‒‒‒‒+‒‒‒‒‒‒‒‒+‒‒‒‒‒‒‒‒+‒‒‒‒‒‒‒‒+‒‒‒‒‒‒‒‒+                                    +‒‒‒‒‒‒‒‒+‒‒‒‒‒‒‒‒+‒‒‒‒‒‒‒‒+‒‒‒‒‒‒‒‒+‒‒‒‒‒‒‒‒+‒‒‒‒‒‒‒‒+\n",
      "|  LSFT  |   Z    |   X    |   C    |   V    |   B    |                                    |   N    |   M    |  COMM  |  DOT   |  SLSH  |  RSFT  |\n",
      "+‒‒‒‒‒‒‒‒+‒‒‒‒‒‒‒‒+‒‒‒‒‒‒‒‒+‒‒‒‒‒‒‒‒+‒‒‒‒‒‒‒‒+‒‒‒‒‒‒‒‒+‒‒‒‒‒‒‒‒+                  +‒‒‒‒‒‒‒‒+‒‒‒‒‒‒‒‒+‒‒‒‒‒‒‒‒+‒‒‒‒‒‒‒‒+‒‒‒‒‒‒‒‒+‒‒‒‒‒‒‒‒+‒‒‒‒‒‒‒‒+\n",
      "                  |   LT   |  LGUI  |  LALT  |  SPC   |  LBRC  |                  |  RBRC  |  ENT   |  BKDL  |  RGUI  |   LT   |\n",
      "                  +‒‒‒‒‒‒‒‒+‒‒‒‒‒‒‒‒+‒‒‒‒‒‒‒‒+‒‒‒‒‒‒‒‒+‒‒‒‒‒‒‒‒+                  +‒‒‒‒‒‒‒‒+‒‒‒‒‒‒‒‒+‒‒‒‒‒‒‒‒+‒‒‒‒‒‒‒‒+‒‒‒‒‒‒‒‒+\n"
     ]
    }
   ],
   "source": [
    "def GRID(corner, horiz, keys=6):\n",
    "    return (corner + _e(horiz)) * keys + corner\n",
    "\n",
    "def FILL(c=\" \", col=1, width=w):\n",
    "    return col * (c + _e(c, width))\n",
    "\n",
    "def ROW(start, end, sep=\"+\"):\n",
    "    return sep + sep.join([_k(a) for a in range(start,end)]) + sep\n",
    "    # end_1, end_2 = start + (end - start) // 2, end\n",
    "    # start_1, start_2 = start, end_1\n",
    "    # return (\n",
    "    #     sep\n",
    "    #     + sep.join([_k(a) for a in range(start_1,end_1)] \n",
    "    #                 + [_e(\"\", w2)] \n",
    "    #                 + [_k(b) for b in range(start_2,end_2)])\n",
    "    #     + sep\n",
    "    # )\n",
    "    # return\n",
    "\n",
    "\n",
    "\n",
    "res = \"\\n\".join(\n",
    "    [\n",
    "        GRID(\"+\", \"‒\", 6) + FILL(col=4) + GRID(\"+\", \"‒\", 6),\n",
    "        ROW(0, 6, \"|\") + FILL(col=4) + ROW(6, 12, \"|\"),\n",
    "        GRID(\"+\", \"‒\", 6) + FILL(col=4) + GRID(\"+\", \"‒\", 6),\n",
    "        ROW(12, 18, \"|\")+ FILL(col=4) + ROW(18, 24, \"|\"),\n",
    "        GRID(\"+\", \"‒\", 6) + FILL(col=4) + GRID(\"+\", \"‒\", 6),\n",
    "        ROW(24, 30, \"|\")+ FILL(col=4) + ROW(30, 36, \"|\"),\n",
    "        GRID(\"+\", \"‒\", 6) + FILL(col=4) + GRID(\"+\", \"‒\", 6),\n",
    "        ROW(36, 42, \"|\")+ FILL(col=4) + ROW(42, 48, \"|\"),\n",
    "        GRID(\"+\", \"‒\", 7) + FILL(col=2) + GRID(\"+\", \"‒\", 7),\n",
    "        FILL(col=2) + ROW(48, 53, \"|\")+ FILL(col=2) + ROW(53,58, \"|\"),\n",
    "        FILL(col=2) + GRID(\"+\", \"‒\", 5) + FILL(col=2) + GRID(\"+\", \"‒\", 5),\n",
    "        \n",
    "    ]\n",
    ")\n",
    "res_file = \"{f + ','}\"\n",
    "def pretty_print_layer(layer):\n",
    "    out = res.format(*layer, s=s, f=f, w=w, w2=w2)\n",
    "    print(out)\n",
    "    return out\n",
    "out = pretty_print_layer(layers_lists[0])"
   ]
  },
  {
   "cell_type": "code",
   "execution_count": 66,
   "metadata": {},
   "outputs": [
    {
     "name": "stdout",
     "output_type": "stream",
     "text": [
      "+‒‒‒‒‒‒‒‒+‒‒‒‒‒‒‒‒+‒‒‒‒‒‒‒‒+‒‒‒‒‒‒‒‒+‒‒‒‒‒‒‒‒+‒‒‒‒‒‒‒‒+                                    +‒‒‒‒‒‒‒‒+‒‒‒‒‒‒‒‒+‒‒‒‒‒‒‒‒+‒‒‒‒‒‒‒‒+‒‒‒‒‒‒‒‒+‒‒‒‒‒‒‒‒+\n",
      "|  ESC   |   N1   |   N2   |   N3   |   N4   |   N5   |                                    |   N6   |   N7   |   N8   |   N9   |   N0   |  GRV   |\n",
      "+‒‒‒‒‒‒‒‒+‒‒‒‒‒‒‒‒+‒‒‒‒‒‒‒‒+‒‒‒‒‒‒‒‒+‒‒‒‒‒‒‒‒+‒‒‒‒‒‒‒‒+                                    +‒‒‒‒‒‒‒‒+‒‒‒‒‒‒‒‒+‒‒‒‒‒‒‒‒+‒‒‒‒‒‒‒‒+‒‒‒‒‒‒‒‒+‒‒‒‒‒‒‒‒+\n",
      "|  TAB   |   Q    |   W    |   E    |   R    |   T    |                                    |   Y    |   U    |   I    |   O    |   P    |        |\n",
      "+‒‒‒‒‒‒‒‒+‒‒‒‒‒‒‒‒+‒‒‒‒‒‒‒‒+‒‒‒‒‒‒‒‒+‒‒‒‒‒‒‒‒+‒‒‒‒‒‒‒‒+                                    +‒‒‒‒‒‒‒‒+‒‒‒‒‒‒‒‒+‒‒‒‒‒‒‒‒+‒‒‒‒‒‒‒‒+‒‒‒‒‒‒‒‒+‒‒‒‒‒‒‒‒+\n",
      "|  CTRL  |   A    |   S    |   D    |   F    |   G    |                                    |   H    |   J    |   K    |   L    |  SCLN  |  QUOT  |\n",
      "+‒‒‒‒‒‒‒‒+‒‒‒‒‒‒‒‒+‒‒‒‒‒‒‒‒+‒‒‒‒‒‒‒‒+‒‒‒‒‒‒‒‒+‒‒‒‒‒‒‒‒+                                    +‒‒‒‒‒‒‒‒+‒‒‒‒‒‒‒‒+‒‒‒‒‒‒‒‒+‒‒‒‒‒‒‒‒+‒‒‒‒‒‒‒‒+‒‒‒‒‒‒‒‒+\n",
      "|  LSFT  |   Z    |   X    |   C    |   V    |   B    |                                    |   N    |   M    |  COMM  |  DOT   |  SLSH  |  RSFT  |\n",
      "+‒‒‒‒‒‒‒‒+‒‒‒‒‒‒‒‒+‒‒‒‒‒‒‒‒+‒‒‒‒‒‒‒‒+‒‒‒‒‒‒‒‒+‒‒‒‒‒‒‒‒+‒‒‒‒‒‒‒‒+                  +‒‒‒‒‒‒‒‒+‒‒‒‒‒‒‒‒+‒‒‒‒‒‒‒‒+‒‒‒‒‒‒‒‒+‒‒‒‒‒‒‒‒+‒‒‒‒‒‒‒‒+‒‒‒‒‒‒‒‒+\n",
      "                  |   LT   |  LGUI  |  LALT  |  SPC   |  LBRC  |                  |  RBRC  |  ENT   |  BKDL  |  RGUI  |   LT   |\n",
      "                  +‒‒‒‒‒‒‒‒+‒‒‒‒‒‒‒‒+‒‒‒‒‒‒‒‒+‒‒‒‒‒‒‒‒+‒‒‒‒‒‒‒‒+                  +‒‒‒‒‒‒‒‒+‒‒‒‒‒‒‒‒+‒‒‒‒‒‒‒‒+‒‒‒‒‒‒‒‒+‒‒‒‒‒‒‒‒+\n"
     ]
    }
   ],
   "source": [
    "layers = [{} for _ in range(12)]\n",
    "current_meta = None\n",
    "for row in layout:\n",
    "    for key in row:\n",
    "        if isinstance(key, dict):\n",
    "            current_meta = key\n",
    "        else:\n",
    "            *key_layers, key_index = get_labels(key)\n",
    "            for layer_number, layer in enumerate(key_layers):\n",
    "                layers[layer_number][int(key_index)] = layer\n",
    "layers_lists = [list(dict(sorted(l.items())).values()) for l in layers]\n",
    "_ = pretty_print_layer(layers_lists[0] + [\"\"])\n",
    "# layers[0] + [\"\"]"
   ]
  },
  {
   "cell_type": "code",
   "execution_count": null,
   "metadata": {},
   "outputs": [],
   "source": []
  },
  {
   "cell_type": "code",
   "execution_count": 100,
   "metadata": {},
   "outputs": [
    {
     "name": "stdout",
     "output_type": "stream",
     "text": [
      "_____,        _____,        _____,        _____,        _____,        _____,        xxxxx,        xxxxx,        _____,        _____,        _____,        _____,        _____,        _____,        \n",
      "_____,        _____,        _____,        _____,        _____,        _____,        xxxxx,        xxxxx,        _____,        _____,        _____,        _____,        _____,        _____,        \n",
      "_____,        _____,        _____,        _____,        _____,        _____,        xxxxx,        xxxxx,        _____,        _____,        _____,        _____,        _____,        _____,        \n",
      "_____,        _____,        _____,        _____,        _____,        _____,        xxxxx,        xxxxx,        _____,        _____,        _____,        _____,        _____,        _____,        \n",
      "xxxxx,        xxxxx,        _____,        _____,        _____,        _____,        _____,        _____,        _____,        _____,        _____,        _____,        xxxxx,        xxxxx,        \n"
     ]
    }
   ],
   "source": [
    "def render(layer, width=14, prefix=\"KC.\"):\n",
    "    NO = \"xxxxx\"\n",
    "    grid = []\n",
    "    row = []\n",
    "    for kidx, key in enumerate(layer):\n",
    "        if kidx in {12,24,36}:\n",
    "            grid.append(row)\n",
    "            row = []\n",
    "        if kidx in {6,18,30,42}:\n",
    "            row.extend([NO, NO])\n",
    "        if kidx == 48:\n",
    "            grid.append(row)\n",
    "            row = [NO, NO]\n",
    "        row.append(f\"{prefix}{key}\")\n",
    "    grid.append(row + [NO, NO])\n",
    "    for row in grid:\n",
    "        print((f\"{{:<{width}}}\"*14).format(*[f\"{i},\" for i in row]))\n",
    "render([\"_____\"]*58, prefix=\"\")\n",
    "# render(layers_lists[0])"
   ]
  },
  {
   "cell_type": "code",
   "execution_count": null,
   "metadata": {},
   "outputs": [],
   "source": []
  }
 ],
 "metadata": {
  "kernelspec": {
   "display_name": "Python 3 (ipykernel)",
   "language": "python",
   "name": "python3"
  },
  "language_info": {
   "codemirror_mode": {
    "name": "ipython",
    "version": 3
   },
   "file_extension": ".py",
   "mimetype": "text/x-python",
   "name": "python",
   "nbconvert_exporter": "python",
   "pygments_lexer": "ipython3",
   "version": "3.9.13"
  }
 },
 "nbformat": 4,
 "nbformat_minor": 4
}
